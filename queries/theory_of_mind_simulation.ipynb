{
 "cells": [
  {
   "cell_type": "code",
   "execution_count": null,
   "metadata": {},
   "outputs": [],
   "source": [
    "import pandas as pd\n",
    "from glob import glob\n",
    "import os\n",
    "from ast import literal_eval\n",
    "\n",
    "api_key = os.environ.get('OPENAI_API_KEY')\n",
    "base_dir = '/home/agnese.lombardi/progetto/ToM_concordia/data/'\n",
    "phen_list = [\"IS\", \"ID\", \"IR_Os\", \"IT\", \"VI_IH\",  \"VI_IQ\",  \"VI_IS\",  \"IR\" ] \n",
    "tasks = [ 1, 2, 3, 4, 5] "
   ]
  },
  {
   "cell_type": "code",
   "execution_count": null,
   "metadata": {},
   "outputs": [],
   "source": [
    "def execute_simulation(row):\n",
    "\n",
    "  sh_mem = row.SharedMem\n",
    "  ilc_name = str(row.IlcName)\n",
    "  ilc_gender = str(row.IlcGender)\n",
    "  ilc_goal = str(row.IlcGoal)\n",
    "  ilc_context = str(row.IlcContext)\n",
    "  ilc_specific_mem = str(row.IlcSpecificMem)\n",
    "  ilc_extras = str(row.IlcExtras)\n",
    "  lc_name = str(row.LcName)\n",
    "  lc_gender = str(row.LcGender)\n",
    "  lc_goal = str(row.LcGoal)\n",
    "  lc_context = str(row.LcContext)\n",
    "  lc_specific_mem = str(row.LcSpecificMem)\n",
    "  lc_extras = str(row.LcExtras)\n",
    "  scenario = str(row.ScenarioPremise)\n",
    "  if hasattr(row, 'Explicit_belief_illocutor'):\n",
    "   illocutor_belief = str(row.Explicit_belief_illocutor)\n",
    "  else: \n",
    "   illocutor_belief = ''\n",
    "  if hasattr(row, 'Explicit_belief_locutor'):\n",
    "   locutor_belief = str(row.Explicit_belief_locutor)\n",
    "  else:\n",
    "   locutor_belief = ''\n",
    "  options = row.Options\n",
    "  \n",
    "  return sh_mem, ilc_name, ilc_gender, ilc_goal, ilc_context, ilc_specific_mem, ilc_extras, lc_name, lc_gender, lc_goal, lc_context, lc_specific_mem, lc_extras, scenario, options, illocutor_belief, locutor_belief\n"
   ]
  },
  {
   "cell_type": "markdown",
   "metadata": {},
   "source": [
    "## Test ToM of speaker and listener"
   ]
  },
  {
   "cell_type": "code",
   "execution_count": null,
   "metadata": {},
   "outputs": [],
   "source": [
    "import concurrent.futures\n",
    "import datetime\n",
    "import random\n",
    "from IPython import display\n",
    "from concordia import components as generic_components\n",
    "from concordia.components import agent as components\n",
    "from concordia.components import game_master as gm_components\n",
    "from concordia.agents import basic_agent\n",
    "from concordia.typing import agent as type\n",
    "from concordia.associative_memory import associative_memory\n",
    "from concordia.associative_memory import blank_memories\n",
    "from concordia.associative_memory import embedder_st5\n",
    "from concordia.associative_memory import formative_memories\n",
    "from concordia.associative_memory import importance_function\n",
    "from concordia.clocks import game_clock\n",
    "from concordia.environment import game_master\n",
    "from concordia.language_model import gpt_model\n",
    "from concordia.utils import html as html_lib"
   ]
  },
  {
   "cell_type": "code",
   "execution_count": null,
   "metadata": {},
   "outputs": [],
   "source": [
    "embedder = embedder_st5.EmbedderST5()\n",
    "model = gpt_model.GptLanguageModel(api_key= api_key ,model_name= 'gpt-4o-mini')\n",
    "\n",
    "importance_model = importance_function.AgentImportanceModel(model)\n",
    "importance_model_gm = importance_function.ConstantImportanceModel()"
   ]
  },
  {
   "cell_type": "markdown",
   "metadata": {},
   "source": [
    "## Build players"
   ]
  },
  {
   "cell_type": "code",
   "execution_count": null,
   "metadata": {},
   "outputs": [],
   "source": [
    "def make_random_big_five()->str:\n",
    "     return str({\n",
    "       'extraversion': random.randint(1, 10),\n",
    "       'neuroticism': random.randint(1, 10),\n",
    "       'openness': random.randint(1, 10),\n",
    "       'conscientiousness': random.randint(1, 10),\n",
    "       'agreeableness': random.randint(1, 10),\n",
    "     })"
   ]
  },
  {
   "cell_type": "markdown",
   "metadata": {},
   "source": [
    "## Configure players"
   ]
  },
  {
   "cell_type": "code",
   "execution_count": null,
   "metadata": {},
   "outputs": [],
   "source": [
    "def config_players(ilc_name, ilc_gender, ilc_goal, ilc_context, ilc_extras, lc_name, lc_gender, lc_goal, lc_context, lc_extras):\n",
    "\n",
    "   player_configs = [\n",
    "       formative_memories.AgentConfig(\n",
    "        name= f\"{ilc_name}\",\n",
    "        gender= f\"{ilc_gender}\",\n",
    "        goal= f\"{ilc_goal}\",\n",
    "        context= f\"{ilc_context}\",\n",
    "        extras = f\"{ilc_extras}\",\n",
    "        traits = make_random_big_five()\n",
    "            ),\n",
    "       formative_memories.AgentConfig(\n",
    "        name= f\"{lc_name}\",\n",
    "        gender= f\"{lc_gender}\",\n",
    "        goal= f\"{lc_goal}\",\n",
    "        context= f\"{lc_context}\",\n",
    "        extras = f\"{lc_extras}\",\n",
    "        traits = make_random_big_five()\n",
    "            ),\n",
    "    ]\n",
    "   return player_configs"
   ]
  },
  {
   "cell_type": "markdown",
   "metadata": {},
   "source": [
    "## Function to call a specific action"
   ]
  },
  {
   "cell_type": "code",
   "execution_count": null,
   "metadata": {},
   "outputs": [],
   "source": [
    "def config_action(lc_name, options):\n",
    "   CALL_TO_MEANING = ('Given the above utterance of ' f\"{lc_name}, \" \n",
    "                      'what is {agent_name} likely to do next?' \n",
    "                      ' Respond with one of the following options.')\n",
    "\n",
    "   specific_action_multichoice = type.ActionSpec (\n",
    "    call_to_action= CALL_TO_MEANING,\n",
    "    output_type='CHOICE',\n",
    "    options= options,\n",
    "    tag='action',\n",
    "    )\n",
    "   \n",
    "   return specific_action_multichoice"
   ]
  },
  {
   "cell_type": "markdown",
   "metadata": {},
   "source": [
    "## Configure game master"
   ]
  },
  {
   "cell_type": "code",
   "execution_count": null,
   "metadata": {},
   "outputs": [],
   "source": [
    "def config_gm(players, action, clock, lc_specific_mem, ilc_specific_mem):\n",
    "    game_master_memory = associative_memory.AssociativeMemory(\n",
    "    embedder, importance_model_gm.importance, clock=clock.now)\n",
    "    combined_memories = f\"{lc_specific_mem}, {ilc_specific_mem}\".strip(\", \").strip()\n",
    "\n",
    "    facts = components.constant.ConstantComponent(combined_memories, 'Players belief')\n",
    "   \n",
    "    direct_effect_externality = gm_components.direct_effect.DirectEffect(\n",
    "    players, memory=game_master_memory, model=model, clock_now=clock.now, verbose=False, components=[facts]\n",
    "    )\n",
    "\n",
    "    env = game_master.GameMaster(\n",
    "    model=model,\n",
    "    memory=game_master_memory,\n",
    "    clock=clock,\n",
    "    players=players,\n",
    "    components=[\n",
    "        direct_effect_externality,\n",
    "    ],\n",
    "    randomise_initiative=False,\n",
    "    action_spec= action,\n",
    "    player_observes_event= False,\n",
    "    players_act_simultaneously = True,\n",
    "    concurrent_action = True,\n",
    "    concurrent_externalities= True,\n",
    "    verbose=True,\n",
    "    )\n",
    "    \n",
    "    return env, game_master_memory, direct_effect_externality"
   ]
  },
  {
   "cell_type": "markdown",
   "metadata": {},
   "source": [
    "## Run episode"
   ]
  },
  {
   "cell_type": "code",
   "execution_count": null,
   "metadata": {},
   "outputs": [],
   "source": [
    "def run_episode(lc_name, ilc_name, players, scenario, env, action, game_master_memory, ilc_specific_mem, lc_specific_mem, locutor_belief, illocutor_belief):\n",
    "    \n",
    "    player_by_name = {player.name: player for player in players}\n",
    "    illocutor = player_by_name[lc_name]\n",
    "    locutor = player_by_name[ilc_name]\n",
    "    game_master_memory.add(scenario)\n",
    "    game_master_memory.add(ilc_specific_mem)\n",
    "    game_master_memory.add(lc_specific_mem)\n",
    "    \n",
    "    for player in players:\n",
    "        player.observe(lc_specific_mem) if player.name == lc_name else player.observe(ilc_specific_mem)\n",
    "        try:\n",
    "          locutor.observe(locutor_belief)\n",
    "          illocutor.observe(illocutor_belief)\n",
    "        except: \n",
    "          print(\"There isn't any explicit belief\")\n",
    "        player.observe(f'{scenario}')\n",
    "        player.act(action_spec = action)\n",
    "     \n",
    "    episode_length = 1  # @param {type: 'integer'}\n",
    "    for _ in range(episode_length):\n",
    "     env.step()\n",
    "     \n",
    "    all_gm_memories = env._memory.retrieve_recent(k=1000, add_time=True)\n",
    "\n",
    "    detailed_story = '\\n'.join(all_gm_memories)\n",
    "    print('len(detailed_story): ', len(detailed_story))\n",
    "    print(detailed_story)\n",
    "\n",
    "    episode_summary = model.sample_text(\n",
    "     f'Sequence of events:\\n{detailed_story}'+\n",
    "     '\\nNarratively summarize the above temporally ordered ' +\n",
    "     'sequence of events. Write it as a news report. Summary:\\n',\n",
    "    max_characters=350, max_tokens=350, terminators=())\n",
    "    print(episode_summary)\n",
    "    \n",
    "    return episode_summary, all_gm_memories"
   ]
  },
  {
   "cell_type": "markdown",
   "metadata": {},
   "source": [
    "## Save episode"
   ]
  },
  {
   "cell_type": "code",
   "execution_count": null,
   "metadata": {},
   "outputs": [],
   "source": [
    "\n",
    "def save_result(players, env, direct_effect_externality, all_gm_memories, episode_summary, file_name):\n",
    "    player_logs = []\n",
    "    player_log_names = []\n",
    "    for player in players:\n",
    "      name = player.name\n",
    "      detailed_story = '\\n'.join(player._memory.retrieve_recent(k=100, add_time=True))\n",
    "      summary = ''\n",
    "      summary = model.sample_text(\n",
    "        f'Sequence of events that happened to {name}:\\n{detailed_story}'\n",
    "        '\\nWrite a short story that summarises these events.\\n'\n",
    "        ,\n",
    "        max_characters=350, max_tokens=350, terminators=())\n",
    "\n",
    "      all_player_mem = player._memory.retrieve_recent(k=100, add_time=True)\n",
    "      all_player_mem = ['Summary:', summary, 'Memories:'] + all_player_mem\n",
    "      player_html = html_lib.PythonObjectToHTMLConverter(all_player_mem).convert()\n",
    "      player_logs.append(player_html)\n",
    "      player_log_names.append(f'{name}')\n",
    "    histories_html = [html_lib.PythonObjectToHTMLConverter(history.get_history()).convert() for history in\n",
    "                      [env, direct_effect_externality]]\n",
    "    histories_names = ['Game Master', 'Direct Effect Externality']\n",
    "\n",
    "    gm_mem_html = html_lib.PythonObjectToHTMLConverter(all_gm_memories).convert()\n",
    "    tabbed_html = html_lib.combine_html_pages(\n",
    "      histories_html + [gm_mem_html] + player_logs,\n",
    "      histories_names + ['GM'] + player_log_names,\n",
    "      summary=episode_summary,\n",
    "      title='Simulation',\n",
    "    )\n",
    "\n",
    "    tabbed_html = html_lib.finalise_html(tabbed_html)\n",
    "     \n",
    "    with open(file_name, \"w\") as file:\n",
    "       file.write(tabbed_html)     "
   ]
  },
  {
   "cell_type": "markdown",
   "metadata": {},
   "source": [
    "## Set up the agents and GM interaction"
   ]
  },
  {
   "cell_type": "code",
   "execution_count": null,
   "metadata": {},
   "outputs": [],
   "source": [
    "\n",
    "#for row in df.itertuples():\n",
    "def run_code(df_row, file):\n",
    "    NUM_PLAYERS = 2\n",
    "    TIME_STEP = datetime.timedelta(minutes=1)\n",
    "    SETUP_TIME = datetime.datetime(hour=16, year=2024, month=10, day=1)\n",
    "    START_TIME = datetime.datetime(hour=16, year=2024, month=10, day=1)\n",
    "    clock = game_clock.MultiIntervalClock(start=SETUP_TIME, step_sizes= [TIME_STEP, datetime.timedelta(seconds=10)])\n",
    "    \n",
    "    sh_mem, ilc_name, ilc_gender, ilc_goal, ilc_context, ilc_specific_mem, ilc_extras, lc_name, lc_gender, lc_goal, lc_context, lc_specific_mem, lc_extras, scenario, options, locutor_belief, illocutor_belief  = execute_simulation(df_row)\n",
    "    \n",
    "    blank_memory_factory = blank_memories.MemoryFactory(\n",
    "    model=model,\n",
    "    embedder=embedder,\n",
    "    importance=importance_model.importance,\n",
    "    clock_now=clock.now,\n",
    "   )\n",
    "  \n",
    "    formative_memory_factory = formative_memories.FormativeMemoryFactory(\n",
    "      model=model,\n",
    "      shared_memories= sh_mem,\n",
    "      blank_memory_factory_call=blank_memory_factory.make_blank_memory,\n",
    "    )\n",
    "    \n",
    "    def build_agent(agent_config):\n",
    "      \n",
    "     mem = formative_memory_factory.make_memories(agent_config)\n",
    "\n",
    "     time = generic_components.report_function.ReportFunction(\n",
    "      name='Current time',\n",
    "      function=clock.current_time_interval_str,\n",
    "     )\n",
    "\n",
    "     current_obs = components.observation.Observation(\n",
    "      agent_name=agent_config.name,\n",
    "      clock_now=clock.now,\n",
    "      memory=mem,\n",
    "      timeframe=clock.get_step_size(),\n",
    "      component_name='current observations',\n",
    "     )\n",
    "\n",
    "     summary_obs = components.observation.ObservationSummary(\n",
    "      agent_name=agent_config.name,\n",
    "      model=model,\n",
    "      clock_now=clock.now,\n",
    "      memory=mem,\n",
    "      timeframe_delta_from=datetime.timedelta(hours=1),\n",
    "      timeframe_delta_until=datetime.timedelta(hours=1),\n",
    "      components=[current_obs],\n",
    "      component_name='summary of observations',\n",
    "    )\n",
    "  \n",
    "     agent = basic_agent.BasicAgent(\n",
    "      model,\n",
    "      mem,\n",
    "      agent_name=agent_config.name,\n",
    "      clock=clock,\n",
    "      verbose=True,\n",
    "      components=[summary_obs, current_obs, time],\n",
    "    )\n",
    "      \n",
    "     return agent\n",
    "    \n",
    "    player_configs = config_players(\n",
    "        ilc_name= ilc_name, ilc_gender= ilc_gender,  ilc_goal= ilc_goal, ilc_context=ilc_context, ilc_extras=ilc_extras, \n",
    "        lc_name=lc_name, lc_gender=lc_gender,lc_goal=lc_goal, lc_context=lc_context, lc_extras=lc_extras)[:NUM_PLAYERS]\n",
    "    players = []\n",
    "        \n",
    "    with concurrent.futures.ThreadPoolExecutor(max_workers=NUM_PLAYERS) as pool:\n",
    "      for agent in pool.map(build_agent, player_configs[:NUM_PLAYERS]):\n",
    "       players.append(agent)\n",
    "       \n",
    "    specific_action_multichoice = config_action(lc_name=lc_name, options=options)\n",
    "       \n",
    "    env, game_master_memory, direct_effect_externality = config_gm(players=players, action= specific_action_multichoice, clock= clock, lc_specific_mem=lc_specific_mem, ilc_specific_mem=ilc_specific_mem)\n",
    "    \n",
    "    clock.set(START_TIME)\n",
    "    episode_summary, all_gm_memories =run_episode(lc_name=lc_name,ilc_name=ilc_name,players=players,scenario=scenario,env=env,action = specific_action_multichoice, game_master_memory=game_master_memory, locutor_belief= locutor_belief, illocutor_belief= illocutor_belief, lc_specific_mem=lc_specific_mem, ilc_specific_mem=ilc_specific_mem)\n",
    "    save_result(players=players, env=env, direct_effect_externality= direct_effect_externality, all_gm_memories=all_gm_memories,episode_summary=episode_summary, file_name=file) \n",
    "    "
   ]
  },
  {
   "cell_type": "markdown",
   "metadata": {},
   "source": [
    "## Task 1,2,3,4,5"
   ]
  },
  {
   "cell_type": "code",
   "execution_count": null,
   "metadata": {},
   "outputs": [],
   "source": [
    "dataframes = {}\n",
    "\n",
    "for phen in phen_list:\n",
    "    for task in tasks:\n",
    "        excel_path = f'{base_dir}/{phen}_task{task}.xlsx'\n",
    "        csv_path = f'{base_dir}/{phen}_task{task}.csv'\n",
    "        \n",
    "        df = pd.read_excel(excel_path, sheet_name=0, header=0, keep_default_na=True)\n",
    "        df.to_csv(csv_path, index=False)\n",
    "        df_csv = pd.read_csv(csv_path, converters={'SharedMem': literal_eval, 'Options': literal_eval})\n",
    "        dataframes[f'{phen}_task{task}'] = df_csv\n",
    "\n",
    "        for row in df_csv.itertuples():\n",
    "            run_code(row, file= f\"{phen}_Task{task}_{row.Index}.html\")"
   ]
  }
 ],
 "metadata": {
  "kernelspec": {
   "display_name": "progetto",
   "language": "python",
   "name": "python3"
  },
  "language_info": {
   "codemirror_mode": {
    "name": "ipython",
    "version": 3
   },
   "file_extension": ".py",
   "mimetype": "text/x-python",
   "name": "python",
   "nbconvert_exporter": "python",
   "pygments_lexer": "ipython3",
   "version": "3.10.12"
  }
 },
 "nbformat": 4,
 "nbformat_minor": 2
}
